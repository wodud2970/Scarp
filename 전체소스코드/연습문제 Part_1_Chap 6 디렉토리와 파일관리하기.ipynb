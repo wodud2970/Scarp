{
 "cells": [
  {
   "cell_type": "code",
   "execution_count": 1,
   "metadata": {},
   "outputs": [
    {
     "name": "stdout",
     "output_type": "stream",
     "text": [
      "폴더 이름을 입력하세요(예:c:\\temp) :  c:\\data\\\n",
      "입력하신 경로가 존재하여 c:\\data\\_2 로 폴더를 생성했습니다\n"
     ]
    }
   ],
   "source": [
    "# 연습문제 1\n",
    "import os\n",
    "\n",
    "dir1 = input(\"폴더 이름을 입력하세요(예:c:\\\\temp) :  \")\n",
    "os.getcwd()\n",
    "os.chdir(dir1[0:3])\n",
    "\n",
    "dir_list = os.listdir()\n",
    "\n",
    "if  os.path.isdir(dir1) :\n",
    "    dir_name=dir1+'_2'\n",
    "    os.makedirs(dir_name)\n",
    "    print('입력하신 경로가 존재하여 %s 로 폴더를 생성했습니다' %dir_name)\n",
    "else :\n",
    "    os.mkdir(dir1)\n",
    "    print('입력하신 %s 경로의 폴더를 생성했습니다' %dir1)\n",
    "\n"
   ]
  },
  {
   "cell_type": "code",
   "execution_count": 2,
   "metadata": {},
   "outputs": [
    {
     "name": "stdout",
     "output_type": "stream",
     "text": [
      "blog.naver.com 의 갯수는 모두 3 개입니다\n",
      "blog.tistory.com 의 갯수는 모두 2 개입니다\n",
      "blog.blog.me 의 갯수는 모두 2 개입니다\n"
     ]
    }
   ],
   "source": [
    "# 연습문제 2\n",
    "\n",
    "url = open(\"c:\\\\temp\\\\url.txt\")\n",
    "url_txt = url.readlines()\n",
    "url_txt\n",
    "\n",
    "naver_item=[]\n",
    "tistory_item=[]\n",
    "blogme_item=[]\n",
    "\n",
    "naver_count=0\n",
    "tistory_count=0\n",
    "blogme_count=0\n",
    "\n",
    "for i in range(0,len(url_txt)) :\n",
    "    gubun=url_txt[i].split('/')\n",
    "    #print(gubun)\n",
    "   \n",
    "    if gubun[2] == \"blog.naver.com\" :\n",
    "            naver_item.append(gubun[2])\n",
    "            naver_count += 1\n",
    "    elif gubun[2] == \"blog.tistory.com\" :\n",
    "            tistory_item.append(gubun[2])\n",
    "            tistory_count += 1\n",
    "    else :\n",
    "            blogme_item.append(gubun[2])\n",
    "            blogme_count += 1\n",
    "\n",
    "print(\"blog.naver.com 의 갯수는 모두 %s 개입니다\" %len(naver_item))\n",
    "print(\"blog.tistory.com 의 갯수는 모두 %s 개입니다\" %len(tistory_item))\n",
    "print(\"blog.blog.me 의 갯수는 모두 %s 개입니다\" %len(blogme_item))\n"
   ]
  },
  {
   "cell_type": "code",
   "execution_count": null,
   "metadata": {},
   "outputs": [],
   "source": []
  }
 ],
 "metadata": {
  "kernelspec": {
   "display_name": "Python 3",
   "language": "python",
   "name": "python3"
  },
  "language_info": {
   "codemirror_mode": {
    "name": "ipython",
    "version": 3
   },
   "file_extension": ".py",
   "mimetype": "text/x-python",
   "name": "python",
   "nbconvert_exporter": "python",
   "pygments_lexer": "ipython3",
   "version": "3.5.4"
  }
 },
 "nbformat": 4,
 "nbformat_minor": 2
}
