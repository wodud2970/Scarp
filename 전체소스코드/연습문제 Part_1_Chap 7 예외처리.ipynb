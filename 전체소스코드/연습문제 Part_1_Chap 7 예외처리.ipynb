{
 "cells": [
  {
   "cell_type": "code",
   "execution_count": null,
   "metadata": {},
   "outputs": [],
   "source": [
    "f = open(\"c:\\\\data\\\\예외처리연습.txt\")\n",
    "txt = f.readlines()\n",
    "txt"
   ]
  },
  {
   "cell_type": "code",
   "execution_count": 15,
   "metadata": {},
   "outputs": [
    {
     "name": "stdout",
     "output_type": "stream",
     "text": [
      " 몇 건을 출력할까요?: 10\n",
      "\n",
      "\n",
      "홍길동\n",
      "\n",
      "일지매\n",
      "\n",
      "전우치\n",
      "\n",
      "강감찬\n",
      "\n",
      "신사임당\n",
      "\n",
      "\n",
      "\n",
      "\n",
      "\n",
      "모든 행이 출력 완료되었습니다\n"
     ]
    }
   ],
   "source": [
    "no = int(input(\" 몇 건을 출력할까요?: \"))\n",
    "print(\"\\n\")\n",
    "\n",
    "for i in range(0,no) :\n",
    "    try :\n",
    "        print(txt[i]) \n",
    "    except IndexError :\n",
    "        print(\"모든 행이 출력 완료되었습니다\")\n",
    "        break"
   ]
  },
  {
   "cell_type": "code",
   "execution_count": null,
   "metadata": {},
   "outputs": [],
   "source": []
  }
 ],
 "metadata": {
  "kernelspec": {
   "display_name": "Python 3",
   "language": "python",
   "name": "python3"
  },
  "language_info": {
   "codemirror_mode": {
    "name": "ipython",
    "version": 3
   },
   "file_extension": ".py",
   "mimetype": "text/x-python",
   "name": "python",
   "nbconvert_exporter": "python",
   "pygments_lexer": "ipython3",
   "version": "3.5.4"
  }
 },
 "nbformat": 4,
 "nbformat_minor": 2
}
