{
 "cells": [
  {
   "cell_type": "code",
   "execution_count": 1,
   "metadata": {},
   "outputs": [
    {
     "ename": "SyntaxError",
     "evalue": "EOL while scanning string literal (<ipython-input-1-574fb6126cd6>, line 3)",
     "output_type": "error",
     "traceback": [
      "\u001b[1;36m  File \u001b[1;32m\"<ipython-input-1-574fb6126cd6>\"\u001b[1;36m, line \u001b[1;32m3\u001b[0m\n\u001b[1;33m    print('현재 이 과목의 수강 신청자는 %s입니다' %student')\u001b[0m\n\u001b[1;37m                                             ^\u001b[0m\n\u001b[1;31mSyntaxError\u001b[0m\u001b[1;31m:\u001b[0m EOL while scanning string literal\n"
     ]
    }
   ],
   "source": [
    "# 연습문제 1\n",
    "student=['홍길동','일지매']\n",
    "print('현재 이 과목의 수강 신청자는 %s입니다' %student)\n",
    "print(\"\\n\")\n",
    "s1 = input('목록에 추가할 첫번째 학생의 이름을 입력하세요:')\n",
    "student.append(s1)\n",
    "print(\"%s 학생의 신청이 완료되었습니다.\" %s1)\n",
    "print(\"\\n\")\n",
    "s2 = input('목록에 추가할 두번째 학생의 이름을 입력하세요:')\n",
    "student.append(s2)\n",
    "print(\"%s 학생의 신청이 완료되었습니다.\" %s2)\n",
    "print(\"\\n\")\n",
    "print('현재 이 과목의 최종 수강 신청자는 %s입니다' %student)\n"
   ]
  },
  {
   "cell_type": "code",
   "execution_count": 6,
   "metadata": {},
   "outputs": [
    {
     "name": "stdout",
     "output_type": "stream",
     "text": [
      "현재 수강 신청자는 ['홍길동', '일지매', '전우치', '유관순']입니다\n",
      "\n",
      "\n",
      "수강 철회하는 학생의 이름을 쓰세요:전우치\n",
      "\n",
      "\n",
      "전우치 학생의 수강 신청 철회가 완료되었습니다\n",
      "\n",
      "\n",
      "현재 이 과목의 최종 수강 신청자는 ['유관순', '일지매', '홍길동']입니다\n"
     ]
    }
   ],
   "source": [
    "# 연습문제 2\n",
    "print('현재 수강 신청자는 %s입니다' %student)\n",
    "print(\"\\n\")\n",
    "re_stu = input('수강 철회하는 학생의 이름을 쓰세요:')\n",
    "student.remove(re_stu)\n",
    "print('\\n')\n",
    "print('%s 학생의 수강 신청 철회가 완료되었습니다' %re_stu)\n",
    "print('\\n')\n",
    "\n",
    "student.sort( )\n",
    "print('현재 이 과목의 최종 수강 신청자는 %s입니다' %student)"
   ]
  },
  {
   "cell_type": "code",
   "execution_count": 10,
   "metadata": {},
   "outputs": [
    {
     "name": "stdout",
     "output_type": "stream",
     "text": [
      "현재 이 과목의 최종 수강 신청자는 홍길동 , 일지매 , 유관순  입니다\n",
      "\n",
      "\n",
      "변경 전 이름을 입력하세요: 홍길동\n",
      "변경 후 이름을 입력하세요: 강감찬\n",
      "\n",
      "\n",
      "요청하신대로 홍길동 을  강감찬(으)로 변경하였습니다.\n",
      "현재 이 과목의 최종 수강 신청자는 강감찬 , 일지매 , 유관순 입니다\n"
     ]
    }
   ],
   "source": [
    "# 연습문제 3\n",
    "stu2 = '홍길동 , 일지매 , 유관순 '\n",
    "print('현재 이 과목의 최종 수강 신청자는 %s 입니다' %stu2)\n",
    "print('\\n')\n",
    "old_name = input('변경 전 이름을 입력하세요: ')\n",
    "new_name = input('변경 후 이름을 입력하세요: ')\n",
    "stu3 = stu2.replace(old_name,new_name)\n",
    "print('\\n')\n",
    "print('요청하신대로 %s 을  %s(으)로 변경하였습니다.' %(old_name , new_name))\n",
    "print('현재 이 과목의 최종 수강 신청자는 %s입니다' %stu3)"
   ]
  },
  {
   "cell_type": "code",
   "execution_count": null,
   "metadata": {},
   "outputs": [],
   "source": []
  }
 ],
 "metadata": {
  "kernelspec": {
   "display_name": "Python 3",
   "language": "python",
   "name": "python3"
  },
  "language_info": {
   "codemirror_mode": {
    "name": "ipython",
    "version": 3
   },
   "file_extension": ".py",
   "mimetype": "text/x-python",
   "name": "python",
   "nbconvert_exporter": "python",
   "pygments_lexer": "ipython3",
   "version": "3.5.4"
  }
 },
 "nbformat": 4,
 "nbformat_minor": 2
}
