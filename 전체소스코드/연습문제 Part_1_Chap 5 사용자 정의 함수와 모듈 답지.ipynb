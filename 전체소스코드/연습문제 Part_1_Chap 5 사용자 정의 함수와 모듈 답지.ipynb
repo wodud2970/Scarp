{
 "cells": [
  {
   "cell_type": "code",
   "execution_count": 1,
   "metadata": {},
   "outputs": [],
   "source": [
    "#연습문제 1\n",
    "# 두 숫자를 입력 받아서 큰 수에서 작은 수 뺀 결과 값 출력하기\n",
    "def data1(a,b) :\n",
    "    if a > b :\n",
    "        print(a - b)\n",
    "    else :\n",
    "        print(b - a )"
   ]
  },
  {
   "cell_type": "code",
   "execution_count": 2,
   "metadata": {},
   "outputs": [
    {
     "name": "stdout",
     "output_type": "stream",
     "text": [
      "1\n"
     ]
    }
   ],
   "source": [
    "data1(3,2)"
   ]
  },
  {
   "cell_type": "code",
   "execution_count": 3,
   "metadata": {},
   "outputs": [
    {
     "name": "stdout",
     "output_type": "stream",
     "text": [
      "3\n"
     ]
    }
   ],
   "source": [
    "data1(2,5)\n"
   ]
  },
  {
   "cell_type": "code",
   "execution_count": 4,
   "metadata": {},
   "outputs": [],
   "source": [
    "# 연습문제 2\n",
    "# 여러개의 숫자를 입력 받아서 가장 큰 값 출력하기\n",
    "def maxprint( *a ) :\n",
    "    max = 0\n",
    "    for i in a :\n",
    "        if i > max :\n",
    "            max = i\n",
    "    return max"
   ]
  },
  {
   "cell_type": "code",
   "execution_count": 5,
   "metadata": {},
   "outputs": [
    {
     "data": {
      "text/plain": [
       "4"
      ]
     },
     "execution_count": 5,
     "metadata": {},
     "output_type": "execute_result"
    }
   ],
   "source": [
    "maxprint(1,3,4,2)"
   ]
  },
  {
   "cell_type": "code",
   "execution_count": 6,
   "metadata": {},
   "outputs": [],
   "source": [
    "# 사용자 정의 함수 연습문제 3\n",
    "# 임의의 갯수의 숫자를 입력받아서 총 합을 출력하는 함수\n",
    "def total_add( *a ) :\n",
    "    total = 0\n",
    "    for i in a :\n",
    "        total += i\n",
    "    return total\n"
   ]
  },
  {
   "cell_type": "code",
   "execution_count": 7,
   "metadata": {},
   "outputs": [
    {
     "data": {
      "text/plain": [
       "6"
      ]
     },
     "execution_count": 7,
     "metadata": {},
     "output_type": "execute_result"
    }
   ],
   "source": [
    "total_add(1,2,3)"
   ]
  },
  {
   "cell_type": "code",
   "execution_count": 8,
   "metadata": {},
   "outputs": [
    {
     "data": {
      "text/plain": [
       "25"
      ]
     },
     "execution_count": 8,
     "metadata": {},
     "output_type": "execute_result"
    }
   ],
   "source": [
    "total_add(1,3,5,7,9)"
   ]
  },
  {
   "cell_type": "code",
   "execution_count": 11,
   "metadata": {},
   "outputs": [],
   "source": [
    "# 사용자 정의 함수 연습 문제 4\n",
    "# 임의의 갯수 숫자를 입력받아서 가장 큰 값에서 가장 작은 값을 뺀 결과 출력하기\n",
    "def maxprint( *a ) :\n",
    "\tm = 0\n",
    "\tfor i in a :\n",
    "\t\tif i > m :\n",
    "\t\t\tm = i\n",
    "\n",
    "\n",
    "\tn=999999\n",
    "\tfor i in a :\n",
    "\t\tif i < n :\n",
    "\t\t\tn = i\n",
    "\treturn m - n\n"
   ]
  },
  {
   "cell_type": "code",
   "execution_count": 12,
   "metadata": {},
   "outputs": [
    {
     "data": {
      "text/plain": [
       "2"
      ]
     },
     "execution_count": 12,
     "metadata": {},
     "output_type": "execute_result"
    }
   ],
   "source": [
    "maxprint(1,2,3)"
   ]
  },
  {
   "cell_type": "code",
   "execution_count": 13,
   "metadata": {},
   "outputs": [
    {
     "data": {
      "text/plain": [
       "4"
      ]
     },
     "execution_count": 13,
     "metadata": {},
     "output_type": "execute_result"
    }
   ],
   "source": [
    "maxprint(2,4,6)"
   ]
  },
  {
   "cell_type": "code",
   "execution_count": null,
   "metadata": {},
   "outputs": [],
   "source": [
    "# 모듈 연습문제 답지\n",
    "def e_plus(a,b) :\n",
    "    c = a + b\n",
    "    return('입력하신 숫자 %s와 %s의 합은 %s입니다' %( a,b,c ))\n",
    "\n",
    "def e_minus(a,b) :\n",
    "    c = a - b\n",
    "    return('입력하신 숫자 %s와 %s의 차는 %s입니다' %( a,b,c ))\n",
    "\n",
    "def e_prod(a,b) :\n",
    "    c = a * b\n",
    "    return('입력하신 숫자 %s와 %s의 곱은 %s입니다' %( a,b,c ))\n",
    "\n",
    "def e_div(a,b) :\n",
    "    c = a / b\n",
    "    return('입력하신 숫자 %s와 %s의 나누기한 값은 %s입니다' %( a,b,c ))\n",
    "           \n"
   ]
  }
 ],
 "metadata": {
  "kernelspec": {
   "display_name": "Python 3",
   "language": "python",
   "name": "python3"
  },
  "language_info": {
   "codemirror_mode": {
    "name": "ipython",
    "version": 3
   },
   "file_extension": ".py",
   "mimetype": "text/x-python",
   "name": "python",
   "nbconvert_exporter": "python",
   "pygments_lexer": "ipython3",
   "version": "3.5.4"
  }
 },
 "nbformat": 4,
 "nbformat_minor": 2
}
