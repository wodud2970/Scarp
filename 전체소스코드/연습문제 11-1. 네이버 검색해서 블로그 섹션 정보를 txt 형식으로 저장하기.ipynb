{
 "cells": [
  {
   "cell_type": "code",
   "execution_count": null,
   "metadata": {},
   "outputs": [],
   "source": [
    "# 연습문제 11-1\n",
    "# 네이버에서 \"봄여행\" 으로 검색하여 현재 화면에  보이는 내용을 파일로 저장하기\n",
    "# 학습목표 1: 텍스트를 추출하여 화면에 출력하기\n",
    "# Step 4. 현재 페이지에 있는 내용을 화면에 출력하기\n",
    "#Step 1. 필요한 모듈과 라이브러리를 로딩하고 검색어를 입력 받습니다\n",
    "from bs4 import BeautifulSoup     \n",
    "from selenium import webdriver\n",
    "import time\n",
    "import sys\n",
    "\n",
    "query_txt = input('크롤링할 키워드는 무엇입니까?: ')\n",
    "f_name = input('검색 결과를 저장할 파일경로와 이름을 지정하세요(예:c:\\\\data\\\\test.txt): ')\n",
    "\n",
    "#Step 2. 크롬 드라이버를 사용해서 웹 브라우저를 실행합니다.\n",
    "path = \"c:/temp/chromedriver_240/chromedriver.exe\"\n",
    "driver = webdriver.Chrome(path)\n",
    "driver.get(\"https://www.naver.com\")\n",
    "time.sleep(2)  #  창이 모두 열릴 때 까지 2초 기다립니다.\n",
    "\n",
    "#Step 3. 검색창의 이름을 찾아서 검색어를 입력하고 검색을 실행합니다\n",
    "\n",
    "element = driver.find_element_by_id(\"query\")\n",
    "element.send_keys(query_txt)\n",
    "\n",
    "driver.find_element_by_id(\"search_btn\").click()\n",
    "\n",
    "time.sleep(1) \n",
    "\n",
    "full_html = driver.page_source\n",
    "\n",
    "soup = BeautifulSoup(full_html, 'html.parser')\n",
    "\n",
    "content_list = soup.find('ul','type01').find_all('li')\n",
    "print(content_list)\n",
    "\n",
    "for i in content_list:\n",
    "    print(i.text.strip())\n",
    "    print(\"\\n\")\n",
    "  "
   ]
  },
  {
   "cell_type": "code",
   "execution_count": null,
   "metadata": {},
   "outputs": [],
   "source": [
    "# 학습목표 2: 텍스트를 추출하여 txt 형식으로 저장하기\n",
    "# Step 5. 현재 페이지에 있는 내용을 txt 형식으로 파일에 저장하기\n",
    "orig_stdout = sys.stdout\n",
    "f = open(f_name , 'a' , encoding='UTF-8')\n",
    "sys.stdout = f\n",
    "time.sleep(1)\n",
    "\n",
    "html = driver.page_source\n",
    "soup = BeautifulSoup(html, 'html.parser')\n",
    "content_list = soup.find('ul','type01').find_all('li')\n",
    "\n",
    "for i in content_list:\n",
    "    print(i.text.strip())\n",
    "    print(\"\\n\")\n",
    "    \n",
    "sys.stdout = orig_stdout\n",
    "f.close()\n",
    "\n",
    "print(\" 요청하신 데이터 수집 작업이 정상적으로 완료되었습니다\")"
   ]
  },
  {
   "cell_type": "code",
   "execution_count": null,
   "metadata": {},
   "outputs": [],
   "source": []
  }
 ],
 "metadata": {
  "kernelspec": {
   "display_name": "Python 3",
   "language": "python",
   "name": "python3"
  },
  "language_info": {
   "codemirror_mode": {
    "name": "ipython",
    "version": 3
   },
   "file_extension": ".py",
   "mimetype": "text/x-python",
   "name": "python",
   "nbconvert_exporter": "python",
   "pygments_lexer": "ipython3",
   "version": "3.5.4"
  }
 },
 "nbformat": 4,
 "nbformat_minor": 2
}
