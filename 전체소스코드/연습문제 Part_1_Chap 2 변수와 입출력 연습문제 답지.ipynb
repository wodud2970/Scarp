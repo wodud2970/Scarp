{
 "cells": [
  {
   "cell_type": "code",
   "execution_count": 3,
   "metadata": {},
   "outputs": [
    {
     "name": "stdout",
     "output_type": "stream",
     "text": [
      "첫번째 주문하실 음식은 무엇인가요?: 짜장면\n",
      "두번째 주문하실 음식은 무엇인가요?: 짬뽕\n",
      "\n",
      "\n",
      "첫번째 주문하신 음식은 짜장면이고 두번째 주문하신 음식은 짬뽕입니다\n"
     ]
    }
   ],
   "source": [
    "# 연습문제 1번\n",
    "\n",
    "f_menu = input(\"첫번째 주문하실 음식은 무엇인가요?: \")\n",
    "s_menu = input(\"두번째 주문하실 음식은 무엇인가요?: \")\n",
    "print(\"\\n\")\n",
    "print(\"첫번째 주문하신 음식은 %s이고 두번째 주문하신 음식은 %s입니다\" %(f_menu , s_menu))    "
   ]
  },
  {
   "cell_type": "code",
   "execution_count": 2,
   "metadata": {},
   "outputs": [
    {
     "name": "stdout",
     "output_type": "stream",
     "text": [
      "\n",
      "1.짜장면       2.울면        3.짬뽕       4.깐풍기          5.칠리새우\n",
      "\n",
      "1.위 메뉴 중 주문할 메뉴의 번호를 입력하세요: 2\n",
      "2.위 메뉴의 주문 수량을 입력하세요:  3\n",
      "\n",
      "\n",
      "주문하신 메뉴 번호는 2 이고 주문 수량은 3 개 입니다\n"
     ]
    }
   ],
   "source": [
    "# 연습문제 2번\n",
    "menu = input('''\n",
    "1.짜장면       2.울면        3.짬뽕       4.깐풍기          5.칠리새우\n",
    "\n",
    "1.위 메뉴 중 주문할 메뉴의 번호를 입력하세요: ''')\n",
    "\n",
    "count = input(\"2.위 메뉴의 주문 수량을 입력하세요:  \")\n",
    "print(\"\\n\")\n",
    "\n",
    "print(\"주문하신 메뉴 번호는 %s 이고 주문 수량은 %s 개 입니다\" %(menu,count))"
   ]
  }
 ],
 "metadata": {
  "kernelspec": {
   "display_name": "Python 3",
   "language": "python",
   "name": "python3"
  },
  "language_info": {
   "codemirror_mode": {
    "name": "ipython",
    "version": 3
   },
   "file_extension": ".py",
   "mimetype": "text/x-python",
   "name": "python",
   "nbconvert_exporter": "python",
   "pygments_lexer": "ipython3",
   "version": "3.5.4"
  }
 },
 "nbformat": 4,
 "nbformat_minor": 2
}
