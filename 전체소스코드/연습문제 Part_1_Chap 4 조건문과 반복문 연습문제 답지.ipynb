{
 "cells": [
  {
   "cell_type": "code",
   "execution_count": 8,
   "metadata": {},
   "outputs": [
    {
     "name": "stdout",
     "output_type": "stream",
     "text": [
      "숫자를 입력하세요:5\n",
      "0\n"
     ]
    }
   ],
   "source": [
    "#if 문 연숩문제 1\n",
    "no1 = int( input('숫자를 입력하세요:'))\n",
    "if no1%3 == 0 :\n",
    "    print(no1**2)\n",
    "else :\n",
    "    print(no1*0)\n"
   ]
  },
  {
   "cell_type": "code",
   "execution_count": 11,
   "metadata": {},
   "outputs": [
    {
     "name": "stdout",
     "output_type": "stream",
     "text": [
      "사과, 감, 귤 중에 어떤 과일을 좋아하세요?: 감자\n",
      "사과나 감, 률 중 하나를 입력하세요~~\n"
     ]
    }
   ],
   "source": [
    "#if 문 연숩문제 2\n",
    "fruits = input('사과, 감, 귤 중에 어떤 과일을 좋아하세요?: ')\n",
    "if fruits == '사과' :\n",
    "    print(\"Good~~\")\n",
    "elif fruits == '감' :\n",
    "    print(\"Very Good~~\")\n",
    "elif fruits == '귤' :\n",
    "    print(\"So so....\")\n",
    "else :\n",
    "    print(\"사과나 감, 귤 중 하나를 입력하세요~~\")\n"
   ]
  },
  {
   "cell_type": "code",
   "execution_count": 16,
   "metadata": {},
   "outputs": [
    {
     "name": "stdout",
     "output_type": "stream",
     "text": [
      "사과, 감, 귤, 복숭아 중에 어떤 과일을 좋아하세요?: 감자\n",
      "사과나 감, 귤, 복숭아 중 하나를 입력하세요~~\n"
     ]
    }
   ],
   "source": [
    "#if 문 연숩문제 3\n",
    "fruits = input('사과, 감, 귤, 복숭아 중에 어떤 과일을 좋아하세요?: ')\n",
    "if fruits == '사과' or fruits =='감' :\n",
    "    print(\"Very Good~~\")\n",
    "elif fruits == '귤' or fruits == '복숭아' :\n",
    "    print(\"Good~\")\n",
    "else :\n",
    "    print(\"사과나 감, 귤, 복숭아 중 하나를 입력하세요~~\")"
   ]
  },
  {
   "cell_type": "code",
   "execution_count": 1,
   "metadata": {},
   "outputs": [
    {
     "name": "stdout",
     "output_type": "stream",
     "text": [
      "\n",
      "1.짜장면 - 5,000원          2.짬뽕 - 6,000원\n",
      "3.군만두 - 8,000원          4.탕수육 - 10,000원 \n",
      "\n",
      "1. 위 메뉴 중 주문할 메뉴의 번호를 쓰세요:  1\n",
      "2. 위 메뉴의 주문 수량을 쓰세요: 2\n",
      "\n",
      "\n",
      "주문하신 메뉴는 짜장면이고 주문 수량은 2 그릇이며 주문금액은 10000 입니다\n"
     ]
    }
   ],
   "source": [
    "# if 문 연습문제 4\n",
    "menu = int(input('''\n",
    "1.짜장면 - 5,000원          2.짬뽕 - 6,000원\n",
    "3.군만두 - 8,000원          4.탕수육 - 10,000원 \n",
    "\n",
    "1. 위 메뉴 중 주문할 메뉴의 번호를 쓰세요:  ''') )\n",
    "\n",
    "qty = int(input(\"2. 위 메뉴의 주문 수량을 쓰세요: \"))\n",
    "print(\"\\n\")\n",
    "\n",
    "if (menu == 1):\n",
    "    print( '주문하신 메뉴는 짜장면이고 주문 수량은 %s 그릇이며 주문금액은 %s 입니다' %(qty , 5000*qty))\n",
    "elif ( menu == 2) :\n",
    "    print( '주문하신 메뉴는 짬뽕이고 주문 수량은 %s 그릇이며 주문금액은 %s 입니다' %(qty , 6000*qty))\n",
    "elif ( menu == 3 ) :\n",
    "    print( '주문하신 메뉴는 군만두이고 주문 수량은 %s 그릇이며 주문금액은 %s 입니다' %(qty , 8000*qty))\n",
    "elif ( menu == 4) :\n",
    "    print( '주문하신 메뉴는 탕수육이고 주문 수량은 %s 그릇이며 주문금액은 %s 입니다' %(qty , 10000*qty))\n",
    "else :\n",
    "    print('메뉴선택을 잘못하셨습니다')\n",
    "    \n",
    "    "
   ]
  },
  {
   "cell_type": "code",
   "execution_count": 4,
   "metadata": {},
   "outputs": [
    {
     "name": "stdout",
     "output_type": "stream",
     "text": [
      "출력을 원하시는 단을 입력하세요: 5\n",
      "5  X  1 = 5\n",
      "5  X  2 = 10\n",
      "5  X  3 = 15\n",
      "5  X  4 = 20\n",
      "5  X  5 = 25\n",
      "5  X  6 = 30\n",
      "5  X  7 = 35\n",
      "5  X  8 = 40\n",
      "5  X  9 = 45\n"
     ]
    }
   ],
   "source": [
    "# for 반복문 연습문제\n",
    "# 숫자 1개를 입력받아서 해당 숫자의 단에 해당되는 구구단 출력하기\n",
    "\n",
    "no = int(input('출력을 원하시는 단을 입력하세요: '))\n",
    "\n",
    "for i in range(1,10) :\n",
    "    print(no,' X ', i , '=' , no*i)"
   ]
  },
  {
   "cell_type": "code",
   "execution_count": null,
   "metadata": {},
   "outputs": [],
   "source": [
    "#for 반복문 연습문제\n",
    "# 숫자 1개를 입력받아서 1부터 해당 숫자까지의 짝수만 출력하세요\n",
    "\n",
    "no = int( input('숫자를 입력하세요:'))\n",
    "for i in range(1,no+1) :\n",
    "    if i%2==0 :\n",
    "        print(i)\n",
    "        \n",
    "        "
   ]
  },
  {
   "cell_type": "code",
   "execution_count": 9,
   "metadata": {},
   "outputs": [
    {
     "name": "stdout",
     "output_type": "stream",
     "text": [
      "숫자를 입력하세요:6\n",
      "1\n",
      "3\n",
      "5\n"
     ]
    }
   ],
   "source": [
    "#for 반복문 연습문제\n",
    "# 숫자 1개를 입력받아서 1부터 해당 숫자까지의 홀수만 출력하세요\n",
    "\n",
    "no = int( input('숫자를 입력하세요:'))\n",
    "for i in range(1,no+1) :\n",
    "    if i%2!=0 :\n",
    "        print(i)"
   ]
  },
  {
   "cell_type": "code",
   "execution_count": null,
   "metadata": {},
   "outputs": [],
   "source": [
    "# 반복문 연습문제 1\n",
    "# 사용자에게 주문을 받되  주문 종료 후 \"추가 주문하시겠습니까? \" 를 물어보고\n",
    "# 사용자가 Y / y 를 입력하면 주문 결과를 보여준 후 주문 창을 다시 보여주고\n",
    "# 사용자가 N / y 를 입력하면 주문 결과를 보여주고 종료하도록 코드를 작성하세요.\n",
    "\n",
    "answer = 'Y'\n",
    "while ( answer==\"Y\" or answer == \"y\") :\n",
    "    menu = int(input('''\n",
    "    1.짜장면 - 5,000원          2.짬뽕 - 6,000원\n",
    "    3.군만두 - 8,000원          4.탕수육 - 10,000원 \n",
    "\n",
    "    1. 위 메뉴 중 주문할 메뉴의 번호를 쓰세요:  ''') )\n",
    "\n",
    "    qty = int(input(\"    2. 위 메뉴의 주문 수량을 쓰세요: \"))\n",
    "    print(\"\\n\")\n",
    "    \n",
    "    if (menu == 1):\n",
    "        print( '    주문하신 메뉴는 짜장면이고 주문 수량은 %s 그릇이며 주문금액은 %s 입니다' %(qty , 5000*qty))\n",
    "    elif ( menu == 2) :\n",
    "        print( '    주문하신 메뉴는 짬뽕이고 주문 수량은 %s 그릇이며 주문금액은 %s 입니다' %(qty , 6000*qty))\n",
    "    elif ( menu == 3 ) :\n",
    "        print( '    주문하신 메뉴는 군만두이고 주문 수량은 %s 그릇이며 주문금액은 %s 입니다' %(qty , 8000*qty))\n",
    "    elif ( menu == 4) :\n",
    "        print( '    주문하신 메뉴는 탕수육이고 주문 수량은 %s 그릇이며 주문금액은 %s 입니다' %(qty , 10000*qty))\n",
    "    else :\n",
    "        print('    메뉴선택을 잘못하셨습니다')\n",
    "    print(\"\\n\")\n",
    "    \n",
    "    answer = input(\"    3.추가 주문을 하시겠습니까? (Y / N) : \")\n",
    "    \n",
    "    \n",
    "    \n",
    "    "
   ]
  },
  {
   "cell_type": "code",
   "execution_count": 1,
   "metadata": {},
   "outputs": [
    {
     "name": "stdout",
     "output_type": "stream",
     "text": [
      "\n",
      "    1.짜장면 - 5,000원          2.짬뽕 - 6,000원\n",
      "    3.군만두 - 8,000원          4.탕수육 - 10,000원 \n",
      "\n",
      "    1. 위 메뉴 중 주문할 메뉴의 번호를 쓰세요:  2\n",
      "    2. 위 메뉴의 주문 수량을 쓰세요: 3\n",
      "\n",
      "\n",
      "    주문하신 메뉴는 짬뽕이고 주문 수량은 3 그릇이며 주문금액은 18000 원 입니다\n",
      "\n",
      "\n",
      "    3.추가 주문을 하시겠습니까? (Y / N) : ㅜ\n",
      "    1 번째 추가 주문입니다\n"
     ]
    }
   ],
   "source": [
    "# 반복문 연습문제 2\n",
    "# 사용자에게 주문을 받되  주문 종료 후 \"추가 주문하시겠습니까? \" 를 물어보고\n",
    "# 사용자가 Y / y 를 입력하면 주문 결과를 보여준 후 주문 창을 다시 보여주고\n",
    "# 사용자가 N / n 를 입력하면 주문 결과를 보여주고 종료하도록 코드를 작성하세요.\n",
    "# 추가 주문 횟수가 총 3회까지만 가능하고 4회부터는 추가 주문이 안되도록 작성하세요\n",
    "\n",
    "answer = 'Y'\n",
    "reorder = 0\n",
    "\n",
    "while ( answer==\"Y\" or answer == \"y\") :    \n",
    "    menu = int(input('''\n",
    "    1.짜장면 - 5,000원          2.짬뽕 - 6,000원\n",
    "    3.군만두 - 8,000원          4.탕수육 - 10,000원 \n",
    "\n",
    "    1. 위 메뉴 중 주문할 메뉴의 번호를 쓰세요:  ''') )\n",
    "\n",
    "    qty = int(input(\"    2. 위 메뉴의 주문 수량을 쓰세요: \"))\n",
    "    print(\"\\n\")\n",
    "    \n",
    "    if (menu == 1):\n",
    "        print( '    주문하신 메뉴는 짜장면이고 주문 수량은 %s 그릇이며 주문금액은 %s 원 입니다' %(qty , 5000*qty))\n",
    "    elif ( menu == 2) :\n",
    "        print( '    주문하신 메뉴는 짬뽕이고 주문 수량은 %s 그릇이며 주문금액은 %s 원 입니다' %(qty , 6000*qty))\n",
    "    elif ( menu == 3 ) :\n",
    "        print( '    주문하신 메뉴는 군만두이고 주문 수량은 %s 그릇이며 주문금액은 %s 원 입니다' %(qty , 8000*qty))\n",
    "    elif ( menu == 4) :\n",
    "        print( '    주문하신 메뉴는 탕수육이고 주문 수량은 %s 그릇이며 주문금액은 %s 원 입니다' %(qty , 10000*qty))\n",
    "    else :\n",
    "        print('    메뉴선택을 잘못하셨습니다')\n",
    "    print(\"\\n\")\n",
    "        \n",
    "    reorder += 1\n",
    "        \n",
    "    if reorder < 4 :\n",
    "        answer = input(\"    3.추가 주문을 하시겠습니까? (Y / N) : \")\n",
    "        print( \"    %s 번째 추가 주문입니다\" %reorder)\n",
    "    else :\n",
    "        print(\"    추가주문은 총 3회 까지만 가능합니다 ㅠㅠ\")\n",
    "        break"
   ]
  }
 ],
 "metadata": {
  "kernelspec": {
   "display_name": "Python 3",
   "language": "python",
   "name": "python3"
  },
  "language_info": {
   "codemirror_mode": {
    "name": "ipython",
    "version": 3
   },
   "file_extension": ".py",
   "mimetype": "text/x-python",
   "name": "python",
   "nbconvert_exporter": "python",
   "pygments_lexer": "ipython3",
   "version": "3.5.4"
  }
 },
 "nbformat": 4,
 "nbformat_minor": 2
}
