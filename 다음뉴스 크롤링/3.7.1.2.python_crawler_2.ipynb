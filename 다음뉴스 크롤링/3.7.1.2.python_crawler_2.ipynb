{
 "cells": [
  {
   "cell_type": "code",
   "execution_count": 1,
   "metadata": {},
   "outputs": [],
   "source": [
    "import requests\n",
    "import lxml.html"
   ]
  },
  {
   "cell_type": "code",
   "execution_count": 2,
   "metadata": {},
   "outputs": [],
   "source": [
    "response = requests.get('http://www.hanbit.co.kr/store/books/new_book_list.html')\n",
    "root = lxml.html.fromstring(response.content)"
   ]
  },
  {
   "cell_type": "code",
   "execution_count": 3,
   "metadata": {},
   "outputs": [
    {
     "name": "stdout",
     "output_type": "stream",
     "text": [
      "https://www.hanbit.co.kr/store/books/look.php?p_code=B7623190015\n",
      "https://www.hanbit.co.kr/store/books/look.php?p_code=B4300598719\n",
      "https://www.hanbit.co.kr/store/books/look.php?p_code=B9108907099\n",
      "https://www.hanbit.co.kr/store/books/look.php?p_code=B7015117381\n",
      "https://www.hanbit.co.kr/store/books/look.php?p_code=B7448632539\n",
      "https://www.hanbit.co.kr/store/books/look.php?p_code=B3148701816\n",
      "https://www.hanbit.co.kr/store/books/look.php?p_code=B2591303726\n",
      "https://www.hanbit.co.kr/store/books/look.php?p_code=B9602652686\n",
      "https://www.hanbit.co.kr/store/books/look.php?p_code=B7468885216\n",
      "https://www.hanbit.co.kr/store/books/look.php?p_code=B1108557246\n",
      "https://www.hanbit.co.kr/store/books/look.php?p_code=B9354330938\n",
      "https://www.hanbit.co.kr/store/books/look.php?p_code=B3006151946\n",
      "https://www.hanbit.co.kr/store/books/look.php?p_code=B2388883228\n",
      "https://www.hanbit.co.kr/store/books/look.php?p_code=B4766499846\n",
      "https://www.hanbit.co.kr/store/books/look.php?p_code=B1904486238\n",
      "https://www.hanbit.co.kr/store/books/look.php?p_code=B9380943452\n",
      "https://www.hanbit.co.kr/store/books/look.php?p_code=B6918140228\n",
      "https://www.hanbit.co.kr/store/books/look.php?p_code=B3573121629\n",
      "https://www.hanbit.co.kr/store/books/look.php?p_code=B7132069963\n",
      "https://www.hanbit.co.kr/store/books/look.php?p_code=B8742050283\n"
     ]
    }
   ],
   "source": [
    "# 모든 링크를 절대 URL로 변환\n",
    "root.make_links_absolute(response.url) #절대경로 변환 함수 \n",
    "\n",
    "# 목록에서 javascript 제거\n",
    "for a in root.cssselect('.view_box .book_tit a'):\n",
    "    url = a.get('href')\n",
    "    print(url)"
   ]
  },
  {
   "cell_type": "code",
   "execution_count": 11,
   "metadata": {},
   "outputs": [
    {
     "name": "stdout",
     "output_type": "stream",
     "text": [
      "['https://www.hanbit.co.kr/store/books/look.php?p_code=B8742050283']\n"
     ]
    }
   ],
   "source": []
  },
  {
   "cell_type": "code",
   "execution_count": null,
   "metadata": {},
   "outputs": [],
   "source": []
  }
 ],
 "metadata": {
  "kernelspec": {
   "display_name": "Python 3",
   "language": "python",
   "name": "python3"
  },
  "language_info": {
   "codemirror_mode": {
    "name": "ipython",
    "version": 3
   },
   "file_extension": ".py",
   "mimetype": "text/x-python",
   "name": "python",
   "nbconvert_exporter": "python",
   "pygments_lexer": "ipython3",
   "version": "3.8.10"
  }
 },
 "nbformat": 4,
 "nbformat_minor": 4
}
