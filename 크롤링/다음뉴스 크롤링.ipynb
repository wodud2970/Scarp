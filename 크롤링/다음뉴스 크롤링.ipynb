{
 "cells": [
  {
   "cell_type": "code",
   "execution_count": 1,
   "id": "4a5c2efe",
   "metadata": {},
   "outputs": [],
   "source": [
    "from bs4 import BeautifulSoup\n",
    "from datetime import datetime, timedelta\n",
    "import requests\n",
    "import pandas as pd\n",
    "import re"
   ]
  },
  {
   "cell_type": "code",
   "execution_count": null,
   "id": "d166c91f",
   "metadata": {},
   "outputs": [],
   "source": [
    "#날짜 마지막날 계산\n",
    "for i in range(1,int(input())+1):\n",
    "    start = datetime(2021,i,1)\n",
    "    end = datetime(2021,i+1, 1) - timedelta(days=1)\n",
    "    print(start.strftime('%y%m%d'), end.strftime('%y%m%d'))\n",
    "    "
   ]
  },
  {
   "cell_type": "code",
   "execution_count": 123,
   "id": "1bb8ae2e",
   "metadata": {},
   "outputs": [
    {
     "name": "stdout",
     "output_type": "stream",
     "text": [
      "키워드 입력: 울주군\n"
     ]
    }
   ],
   "source": [
    "today = datetime.today()\n",
    "keyword = input('키워드 입력: ')\n",
    "date = [str(str(i).split()[0]).replace('-','') for i in pd.date_range('20210101', today, freq = 'D') ]"
   ]
  },
  {
   "cell_type": "code",
   "execution_count": 178,
   "id": "57ae21cc",
   "metadata": {},
   "outputs": [],
   "source": [
    "import tqdm"
   ]
  },
  {
   "cell_type": "code",
   "execution_count": 122,
   "id": "ad8ead94",
   "metadata": {},
   "outputs": [
    {
     "name": "stdout",
     "output_type": "stream",
     "text": [
      "['20210101', '20210102', '20210103', '20210104', '20210105', '20210106', '20210107', '20210108', '20210109', '20210110', '20210111', '20210112', '20210113', '20210114', '20210115', '20210116', '20210117', '20210118', '20210119', '20210120', '20210121', '20210122', '20210123', '20210124', '20210125', '20210126', '20210127', '20210128', '20210129', '20210130', '20210131', '20210201', '20210202', '20210203', '20210204', '20210205', '20210206', '20210207', '20210208', '20210209', '20210210', '20210211', '20210212', '20210213', '20210214', '20210215', '20210216', '20210217', '20210218', '20210219', '20210220', '20210221', '20210222', '20210223', '20210224', '20210225', '20210226', '20210227', '20210228', '20210301', '20210302', '20210303', '20210304', '20210305', '20210306', '20210307', '20210308', '20210309', '20210310', '20210311', '20210312', '20210313', '20210314', '20210315', '20210316', '20210317', '20210318', '20210319', '20210320', '20210321', '20210322', '20210323', '20210324', '20210325', '20210326', '20210327', '20210328', '20210329', '20210330', '20210331', '20210401', '20210402', '20210403', '20210404', '20210405', '20210406', '20210407', '20210408', '20210409', '20210410', '20210411', '20210412', '20210413', '20210414', '20210415', '20210416', '20210417', '20210418', '20210419', '20210420', '20210421', '20210422', '20210423', '20210424', '20210425', '20210426', '20210427', '20210428', '20210429', '20210430', '20210501', '20210502', '20210503', '20210504', '20210505', '20210506', '20210507', '20210508', '20210509', '20210510', '20210511', '20210512', '20210513', '20210514', '20210515', '20210516', '20210517', '20210518', '20210519', '20210520', '20210521', '20210522', '20210523', '20210524', '20210525', '20210526', '20210527', '20210528', '20210529', '20210530', '20210531', '20210601', '20210602', '20210603', '20210604', '20210605', '20210606', '20210607', '20210608', '20210609', '20210610', '20210611', '20210612', '20210613', '20210614', '20210615', '20210616', '20210617', '20210618', '20210619', '20210620', '20210621', '20210622', '20210623', '20210624', '20210625', '20210626', '20210627', '20210628', '20210629', '20210630', '20210701', '20210702', '20210703', '20210704', '20210705', '20210706', '20210707', '20210708', '20210709', '20210710', '20210711', '20210712', '20210713', '20210714', '20210715', '20210716', '20210717', '20210718', '20210719', '20210720', '20210721', '20210722', '20210723', '20210724', '20210725', '20210726', '20210727', '20210728', '20210729', '20210730', '20210731', '20210801', '20210802', '20210803', '20210804', '20210805', '20210806', '20210807', '20210808', '20210809', '20210810', '20210811', '20210812', '20210813', '20210814', '20210815', '20210816', '20210817', '20210818', '20210819', '20210820', '20210821', '20210822', '20210823', '20210824', '20210825', '20210826', '20210827', '20210828', '20210829', '20210830', '20210831', '20210901', '20210902', '20210903', '20210904', '20210905', '20210906', '20210907', '20210908']\n"
     ]
    }
   ],
   "source": [
    "print(date)"
   ]
  },
  {
   "cell_type": "code",
   "execution_count": 13,
   "id": "21af2c37",
   "metadata": {},
   "outputs": [
    {
     "name": "stdout",
     "output_type": "stream",
     "text": [
      "키워드 입력: 울주군\n"
     ]
    },
    {
     "name": "stderr",
     "output_type": "stream",
     "text": [
      "100%|██████████████████████████████████████| 251/251 [1:29:36<00:00, 21.42s/it]\n"
     ]
    },
    {
     "name": "stdout",
     "output_type": "stream",
     "text": [
      "(118952, 4)\n",
      "(11571, 4)\n"
     ]
    }
   ],
   "source": [
    "from tqdm import tqdm\n",
    "#크롤링 시작\n",
    "today = datetime.today()\n",
    "keyword = input('키워드 입력: ')\n",
    "date = [str(str(i).split()[0]).replace('-','') for i in pd.date_range('20210101', today, freq = 'D') ]\n",
    "\n",
    "title_ = []\n",
    "content_ = []\n",
    "day_ = []\n",
    "link_ =[]\n",
    "for day in tqdm(date):\n",
    "    try:\n",
    "        for page in range(1, 80):\n",
    "            url = f'https://search.daum.net/search?nil_suggest=btn&w=news&DA=STC&cluster=y&q={keyword}&period=u&sd={day}000000&ed={day}235959&p={page}'\n",
    "            response = requests.get(url)\n",
    "            html = response.text\n",
    "            soup = BeautifulSoup(html, 'html.parser')\n",
    "            \n",
    "            for content in soup.find_all('div', class_ = 'wrap_cont'):\n",
    "                title = content.find('a').get_text()\n",
    "                contents =content.find('p', class_ = 'desc').get_text()\n",
    "                link = content.find('a')['href']\n",
    "                title_.append(title)\n",
    "                content_.append(contents)\n",
    "                day_.append(day)\n",
    "                link_.append(link)\n",
    "#                 print(title, contents, day, link)\n",
    "    except:\n",
    "        continue\n",
    "        \n",
    "data = pd.DataFrame()\n",
    "\n",
    "data['제목'] = title_\n",
    "data['내용'] = content_\n",
    "data['날짜'] = day_\n",
    "data['링크'] = link_\n",
    "print(data.shape)\n",
    "data = data.drop_duplicates()\n",
    "print(data.shape)\n",
    "data.to_csv('다음뉴스크롤링.csv')\n",
    "        "
   ]
  },
  {
   "cell_type": "code",
   "execution_count": 176,
   "id": "cf148fc9",
   "metadata": {},
   "outputs": [
    {
     "name": "stdout",
     "output_type": "stream",
     "text": [
      "http://v.media.daum.net/v/20210908134931864?f=o\n",
      "https://cp.news.search.daum.net/p/110494687\n",
      "https://cp.news.search.daum.net/p/110515158\n",
      "https://cp.news.search.daum.net/p/110520091\n",
      "https://cp.news.search.daum.net/p/110496090\n",
      "http://v.media.daum.net/v/20210908075338873?f=o\n",
      "http://v.media.daum.net/v/20210908152125724?f=o\n",
      "http://v.media.daum.net/v/20210908154357650?f=o\n",
      "http://v.media.daum.net/v/20210908061907808?f=o\n",
      "http://v.media.daum.net/v/20210908100857604?f=o\n"
     ]
    }
   ],
   "source": [
    "url = f'https://search.daum.net/search?nil_suggest=btn&w=news&DA=STC&cluster=y&q={keyword}&period=u&sd={day}000000&ed={day}235959&p=1'\n",
    "response = requests.get(url)\n",
    "html = response.text\n",
    "soup = BeautifulSoup(html, 'html.parser')\n",
    "for content in soup.find_all('div', class_ = 'wrap_cont'):\n",
    "    title = content.find('a').get_text()\n",
    "    contents =content.find('p', class_ = 'desc').get_text()\n",
    "    print(content.find('a')['href'])"
   ]
  },
  {
   "cell_type": "code",
   "execution_count": 173,
   "id": "a5afa398",
   "metadata": {},
   "outputs": [
    {
     "name": "stdout",
     "output_type": "stream",
     "text": [
      "[울산소식] 울주군, 재활용품선별장 기간제근로자 추가 채용 등\n",
      "울주군청 전경 [울산=뉴시스]구미현 기자 = 울산시 울주군은 울주군 재활용품 선별장에서 근무할 기간제근로자 4명을 추가 채용한다고 7일 밝혔다. 서류심사와 면접은 동시에 실시하며, 서류접수는 오는 13일 오전 9시부터 오후 6시까지다. 점심시간(12시~13시)은...\n",
      "울주군 미래형 농업 아워즈팜 엽채류..백화점까지 진출\n",
      "7일 울주군 웅촌면 아워즈팜 식물공장 현판식에 참석한 이선호 울주군수가 시설을 돌아보고 관계자들과 대화를 나누고 있다. /사진=울주군 제공 【파이낸셜뉴스 울산=최수상 기자】 울산 울주군 미래형 농업단지인 아워즈팜에서 식물공장 현판식이 27일 이선호 울주...\n",
      "울산 울주군, 식물공장 '아워즈팜' 현판식..스마트팜 확산\n",
      "[울산=뉴시스]구미현 기자 = 울산 울주군은 미래형 농업단지인 스마트팜 보급·확산 사업의 하나로 27일 웅촌면에 있는 아워즈팜에서 식물공장 현판식을 했다. 이번 식물공장 현판식은 울주군이 울산테크노파크와 함께 공동으로 지난해 4월부터 시작한 스마트팜 보급...\n",
      "울주군, 녹지대 및 쉼터 일제 환경정비\n",
      "[울산=환경일보] 오부묵 기자 = 울주군은 민족대명절 추석을 앞두고 관내 가로수 등 녹지대와 마을 입구변에 조성된 쉼터를 중심으로 환경정비를 실시한다고 6일 밝혔다. 이번 환경정비는 9월 7일부터 17일까지 10일 동안 시행할 예정이다. 주요 정비 대상지는 관내...\n",
      "울주군, 식물공장 농가 방문 및 현판식 열어\n",
      "[이뉴스투데이 부산경남취재본부 박흥식 기자] 울주군은 7일 오후 웅촌면에 있는 아워즈팜에서 식물공장 현판식을 개최했다. 이번 식물공장 현판식은 울주군이 울산테크노파크(원장 권수용)와 함께 공동으로 지난해 4월부터 시작한 스마트팜 보급·확산사업의 결실로...\n",
      "다시 찾은 배움 … 울주군 2021년 성인문해교육 개강\n",
      "데일리연합(월간, 한국뉴스신문) 장우혁 기자 | 울주군은 지난 6일부터 사회·경제적 이유 등으로 한글을 배울 기회를 놓친 비문해 어르신 45명을 대상으로 성인문해교육 지원사업을 실시하고 있다. 이번 교육은 범서읍 3개소, 온산읍 1개소, 언양읍 1개소, 서생면...\n",
      "울주군, 추석연휴기간 신불산군립공원야영장 시설 이용중단\n",
      "울주군은 이달 20일부터 추석 연휴기간동안 신불산군립공원 야영장 시설 이용을 중단한다고 6일 밝혔다.추석 연휴를 포함한 3일간(9월 20일~9월 22일)은 울산시 코로나19 사회적 거리두기 3단계 시행에 따라 신불산군립공원야영장을 개방하지 않고 방역 강화에 중점...\n",
      "울주군 e열린치과, 소외계층 위한 치과치료 재능기부\n",
      "[시사뉴스 정윤철 기자] 울주군 소재 e열린치과(원장 황정민)는 지난 6월부터 8월까지 지역사회 소외계층 아동의 구강건강증진을 위해 지역아동센터 50여명의 아동에게 200만원 상당의 무료 재능기부를 실시했다. '취약계층 구강주치의사업'은 취약계층 아동·청소년...\n",
      "울산 울주군 웅촌면이장협의회 정례회의\n",
      "울산 울주군 웅촌면이장협의회 정례회의가 7일 행정복지센터 3층 대회의실에서 열린 가운데 이선호 군수가 인사말을 하고 있다.\n",
      "온산소방서, 울주군 직업진로체험센터 소방안전교육\n",
      "온산소방서는 9월6일 오전 10시 청소년상담복지센터에서 소방안전교육을 지도하는 코치를 양성하기 위해 학부모 19명을 대상으로 소방안전교육을 실시했다.이번 교육은 코로나19 확산 방지를 위해 비대면으로 실시됐으며 영상회의 시스템(zoom)이 활용됐다.교육은...\n",
      "[] []\n",
      "76\n",
      "<div class=\"paging_comm\"></div>\n"
     ]
    }
   ],
   "source": [
    "#크롤링 코드 시작\n",
    "\n",
    "\n",
    "keyword = '울주군'\n",
    "day = '20210907'\n",
    "url = f'https://search.daum.net/search?nil_suggest=btn&w=news&DA=STC&cluster=y&q={keyword}&period=u&sd=20210907000000&ed=20210907235959&p=1'\n",
    "response = requests.get(url)\n",
    "html = response.text\n",
    "soup = BeautifulSoup(html, 'html.parser')\n",
    "\n",
    "title = []\n",
    "contents = []\n",
    "date = []\n",
    "\n",
    "\n",
    "\n",
    "for i in soup.find_all('div', class_ = 'wrap_cont'):\n",
    "    print(i.find('a').get_text(), i.find('p', class_ = 'desc').get_text(), sep = '\\n')\n",
    "\n",
    "\n",
    "print(soup.select('span.paging_inner'), soup.select('div.paging_comm > span'))\n",
    "print(int(str(soup.select('span#resultCntArea')).split()[4].rstrip('건</span>]')))\n",
    "for i in soup.find_all('div', class_ = \"paging_comm\"):\n",
    "    print(i)"
   ]
  },
  {
   "cell_type": "code",
   "execution_count": null,
   "id": "f54d13c5",
   "metadata": {},
   "outputs": [],
   "source": []
  }
 ],
 "metadata": {
  "kernelspec": {
   "display_name": "Python 3",
   "language": "python",
   "name": "python3"
  },
  "language_info": {
   "codemirror_mode": {
    "name": "ipython",
    "version": 3
   },
   "file_extension": ".py",
   "mimetype": "text/x-python",
   "name": "python",
   "nbconvert_exporter": "python",
   "pygments_lexer": "ipython3",
   "version": "3.8.8"
  }
 },
 "nbformat": 4,
 "nbformat_minor": 5
}
