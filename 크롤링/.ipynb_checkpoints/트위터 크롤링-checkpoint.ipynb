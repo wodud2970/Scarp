{
 "cells": [
  {
   "cell_type": "code",
   "execution_count": 9,
   "id": "94f2e55f",
   "metadata": {},
   "outputs": [],
   "source": [
    "import numpy as np\n",
    "import pandas as pd\n",
    "import string\n",
    "import warnings\n",
    "import snscrape\n",
    "import snscrape.modules.twitter as sntwitter\n",
    "from time import sleep\n",
    "import datetime\n",
    "warnings.filterwarnings(action = 'ignore')\n",
    "\n",
    "\n",
    "# Set Maximum tweets to pull\n",
    "max_ = 20000\n",
    "\n",
    "data = pd.DataFrame()\n",
    "#Set what keywords you want your twiter scraper to pull\n",
    "keyword = '울주'\n",
    "#Open/create a file to append data to\n",
    "id_ = []\n",
    "content_ = []\n",
    "date_ = []\n",
    "for i, tweet in enumerate(sntwitter.TwitterSearchScraper(keyword + 'since:2021-01-01 until:2021-09-01 -filter:links -filter:replies').get_items()):\n",
    "    if i > max_:\n",
    "        break\n",
    "    id_.append(tweet.id)\n",
    "    content_.append(tweet.content)\n",
    "    date_.append(tweet.date)\n",
    "\n",
    "data['아이디'] = id_\n",
    "data['내용'] = content_\n",
    "data['날짜'] = date_\n",
    "\n",
    "data.head()\n",
    "data.to_csv('twitter_Ulju1.csv', encoding= 'utf-8')\n",
    "\n",
    "data.sort_values(by=['날짜'], axis = 0).head(20)"
   ]
  },
  {
   "cell_type": "code",
   "execution_count": null,
   "id": "b1231449",
   "metadata": {},
   "outputs": [],
   "source": []
  }
 ],
 "metadata": {
  "kernelspec": {
   "display_name": "Python 3",
   "language": "python",
   "name": "python3"
  },
  "language_info": {
   "codemirror_mode": {
    "name": "ipython",
    "version": 3
   },
   "file_extension": ".py",
   "mimetype": "text/x-python",
   "name": "python",
   "nbconvert_exporter": "python",
   "pygments_lexer": "ipython3",
   "version": "3.8.8"
  }
 },
 "nbformat": 4,
 "nbformat_minor": 5
}
