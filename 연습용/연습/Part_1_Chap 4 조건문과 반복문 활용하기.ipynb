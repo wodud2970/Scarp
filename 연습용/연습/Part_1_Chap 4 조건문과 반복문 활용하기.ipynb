{
 "cells": [
  {
   "cell_type": "code",
   "execution_count": 1,
   "metadata": {},
   "outputs": [
    {
     "name": "stdout",
     "output_type": "stream",
     "text": [
      "조회할 사람의 이름을 입력하세요: 홍길동\n",
      "홍길동 입니다\n",
      "남자입니다\n",
      "활빈당 총수입니다\n"
     ]
    }
   ],
   "source": [
    "# 조건문과 반복문 활용하기\n",
    "\n",
    "# 예제 1\n",
    "name = input('조회할 사람의 이름을 입력하세요: ')\n",
    "\n",
    "if name=='홍길동' :\n",
    "    print(\"홍길동 입니다\")\n",
    "    print(\"남자입니다\")\n",
    "    print(\"활빈당 총수입니다\")"
   ]
  },
  {
   "cell_type": "code",
   "execution_count": 2,
   "metadata": {
    "scrolled": true
   },
   "outputs": [
    {
     "ename": "IndentationError",
     "evalue": "unexpected indent (<ipython-input-2-658f87aae336>, line 7)",
     "output_type": "error",
     "traceback": [
      "\u001b[1;36m  File \u001b[1;32m\"<ipython-input-2-658f87aae336>\"\u001b[1;36m, line \u001b[1;32m7\u001b[0m\n\u001b[1;33m    print(\"활빈당 총수입니다\")\u001b[0m\n\u001b[1;37m    ^\u001b[0m\n\u001b[1;31mIndentationError\u001b[0m\u001b[1;31m:\u001b[0m unexpected indent\n"
     ]
    }
   ],
   "source": [
    "# 예제 2\n",
    "name = input('조회할 사람의 이름을 입력하세요: ')\n",
    "\n",
    "if name=='홍길동' :\n",
    "    print(\"홍길동 입니다\")\n",
    "    print(\"남자입니다\")\n",
    "        print(\"활빈당 총수입니다\")"
   ]
  },
  {
   "cell_type": "code",
   "execution_count": 4,
   "metadata": {
    "scrolled": true
   },
   "outputs": [
    {
     "name": "stdout",
     "output_type": "stream",
     "text": [
      "조회할 사람의 이름을 입력하세요: 일지매\n",
      "홍길동이 아니고 일지매 입니다\n",
      "남자인가요?\n",
      "여자인가요?\n"
     ]
    }
   ],
   "source": [
    "# 예제 3\n",
    "name = input('조회할 사람의 이름을 입력하세요: ')\n",
    "\n",
    "if name=='홍길동' :\n",
    "    print(\"홍길동 입니다\")\n",
    "    print(\"남자입니다\")\n",
    "    print(\"활빈당 총수입니다\")\n",
    "else :\n",
    "    print(\"홍길동이 아니고 %s 입니다\" %name)\n",
    "    print(\"남자인가요?\")\n",
    "    print(\"여자인가요?\")"
   ]
  },
  {
   "cell_type": "code",
   "execution_count": 5,
   "metadata": {},
   "outputs": [
    {
     "name": "stdout",
     "output_type": "stream",
     "text": [
      "점수를 입력하세요: 99\n",
      " A 등급입니다!\n"
     ]
    }
   ],
   "source": [
    "#예제 4\n",
    "\n",
    "jumsu = int(input(\"점수를 입력하세요: \"))\n",
    "\n",
    "if jumsu >= 91 and jumsu <= 100 :\n",
    "    print(\" A 등급입니다!\")\n",
    "elif jumsu >= 81 and jumsu <= 90 :\n",
    "    print(\" B 등급입니다!\")\n",
    "elif jumsu >= 71 and jumsu <= 80 :\n",
    "    print(\" C 등급입니다!\")\n",
    "else :\n",
    "    print(\" D 등급입니다!\")"
   ]
  },
  {
   "cell_type": "code",
   "execution_count": 7,
   "metadata": {},
   "outputs": [
    {
     "name": "stdout",
     "output_type": "stream",
     "text": [
      "점수를 입력하세요: 99\n",
      " A 등급입니다!\n"
     ]
    }
   ],
   "source": [
    "#예제 5\n",
    "\n",
    "jumsu = int(input(\"점수를 입력하세요: \"))\n",
    "\n",
    "if jumsu >= 91 & jumsu <= 100 :\n",
    "    print(\" A 등급입니다!\")\n",
    "elif jumsu >= 81 & jumsu <= 90 :\n",
    "    print(\" B 등급입니다!\")\n",
    "elif jumsu >= 71 & jumsu <= 80 :\n",
    "    print(\" C 등급입니다!\")\n",
    "else :\n",
    "    print(\" D 등급입니다!\")"
   ]
  },
  {
   "cell_type": "code",
   "execution_count": 10,
   "metadata": {
    "scrolled": true
   },
   "outputs": [
    {
     "name": "stdout",
     "output_type": "stream",
     "text": [
      "Y 또는 y 를 입력하세요: N\n",
      "Y 또는 y 를 입력하세요\n"
     ]
    }
   ],
   "source": [
    "# 예제 6\n",
    "answer = input(\"Y 또는 y 를 입력하세요: \")\n",
    "if answer == 'Y' or answer == 'y' :\n",
    "    print(\"입력하신 문자는 %s 입니다\" %answer)\n",
    "else :\n",
    "    print(\"Y 또는 y 를 입력하세요\")"
   ]
  },
  {
   "cell_type": "code",
   "execution_count": 17,
   "metadata": {},
   "outputs": [
    {
     "name": "stdout",
     "output_type": "stream",
     "text": [
      "Y 또는 y 를 입력하세요: N\n",
      "입력하신 문자는 N 입니다\n"
     ]
    }
   ],
   "source": [
    "# 예제 7\n",
    "answer = input(\"Y 또는 y 를 입력하세요: \")\n",
    "if answer != 'Y' and answer != 'y' :\n",
    "    print(\"입력하신 문자는 %s 입니다\" %answer)\n",
    "else :\n",
    "    print(\"Y 또는 y 를 입력하셨군요~\")"
   ]
  },
  {
   "cell_type": "code",
   "execution_count": 18,
   "metadata": {},
   "outputs": [
    {
     "name": "stdout",
     "output_type": "stream",
     "text": [
      "Y 또는 y 를 입력하세요: y\n",
      "Y 또는 y 를 입력하셨군요~\n"
     ]
    }
   ],
   "source": [
    "# 예제 8\n",
    "answer = input(\"Y 또는 y 를 입력하세요: \")\n",
    "if answer != 'Y' and answer != 'y' :\n",
    "    print(\"입력하신 문자는 %s 입니다\" %answer)\n",
    "else :\n",
    "    print(\"Y 또는 y 를 입력하셨군요~\")"
   ]
  },
  {
   "cell_type": "code",
   "execution_count": 2,
   "metadata": {},
   "outputs": [
    {
     "name": "stdout",
     "output_type": "stream",
     "text": [
      "1\n",
      "2\n",
      "3\n"
     ]
    }
   ],
   "source": [
    "# 예제 9\n",
    "\n",
    "for i in (1, 2, 3) :\n",
    "    print( i )\n",
    "    "
   ]
  },
  {
   "cell_type": "code",
   "execution_count": 3,
   "metadata": {},
   "outputs": [
    {
     "name": "stdout",
     "output_type": "stream",
     "text": [
      "하나\n",
      "둘\n",
      "셋\n"
     ]
    }
   ],
   "source": [
    "# 예제 10\n",
    "\n",
    "data = [\"하나\",\"둘\",\"셋\"]\n",
    "for i in data :\n",
    "    print( i )\n",
    "    "
   ]
  },
  {
   "cell_type": "code",
   "execution_count": 4,
   "metadata": {},
   "outputs": [
    {
     "name": "stdout",
     "output_type": "stream",
     "text": [
      "김구 님은 대한민국의 위대한 위인이고 자랑이십니다~!\n",
      "유관순 님은 대한민국의 위대한 위인이고 자랑이십니다~!\n",
      "이순신 님은 대한민국의 위대한 위인이고 자랑이십니다~!\n"
     ]
    }
   ],
   "source": [
    "# 예제 11\n",
    "\n",
    "data = [\"김구\",\"유관순\",\"이순신\"]\n",
    "for i in data :\n",
    "    print(\"%s 님은 대한민국의 위대한 위인이고 자랑이십니다~!\"  % i)"
   ]
  },
  {
   "cell_type": "code",
   "execution_count": 5,
   "metadata": {},
   "outputs": [
    {
     "name": "stdout",
     "output_type": "stream",
     "text": [
      "밥 1 그릇 주세요~\n",
      "밥 2 그릇 주세요~\n",
      "밥 3 그릇 주세요~\n",
      "밥 4 그릇 주세요~\n"
     ]
    }
   ],
   "source": [
    "# 예제 12\n",
    "\n",
    "for i in range(1,5) :\n",
    "    print(\"밥 %s 그릇 주세요~\" %i)"
   ]
  },
  {
   "cell_type": "code",
   "execution_count": 7,
   "metadata": {},
   "outputs": [
    {
     "name": "stdout",
     "output_type": "stream",
     "text": [
      "1\n",
      "3\n",
      "5\n",
      "7\n"
     ]
    }
   ],
   "source": [
    "# 예제 13\n",
    "\n",
    "no1 = 1\n",
    "while no1 < 9 :\n",
    "    print(no1)\n",
    "    no1 += 2"
   ]
  },
  {
   "cell_type": "code",
   "execution_count": 9,
   "metadata": {},
   "outputs": [
    {
     "name": "stdout",
     "output_type": "stream",
     "text": [
      "2\n",
      "4\n",
      "6\n",
      "8\n",
      "10\n"
     ]
    }
   ],
   "source": [
    "# 예제 14\n",
    "\n",
    "no1 = 0\n",
    "while no1 < 9 :\n",
    "    no1 += 2\n",
    "    print(no1)\n",
    "    "
   ]
  },
  {
   "cell_type": "code",
   "execution_count": 1,
   "metadata": {},
   "outputs": [
    {
     "name": "stdout",
     "output_type": "stream",
     "text": [
      "새우깡  완전 맛있어요~!\n",
      "감자깡  완전 맛있어요~!\n"
     ]
    }
   ],
   "source": [
    "# 예제 15\n",
    "\n",
    "snack = [\"새우깡\",\"감자깡\",\"고구마깡\",\"맛동산\",\"짱구\"]\n",
    "for i in snack :\n",
    "    if i == \"고구마깡\" :\n",
    "         break\n",
    "    print(i,\" 완전 맛있어요~!\")"
   ]
  },
  {
   "cell_type": "code",
   "execution_count": 2,
   "metadata": {},
   "outputs": [
    {
     "name": "stdout",
     "output_type": "stream",
     "text": [
      "새우깡  완전 맛있어요~!\n",
      "감자깡  완전 맛있어요~!\n",
      "맛동산  완전 맛있어요~!\n",
      "짱구  완전 맛있어요~!\n"
     ]
    }
   ],
   "source": [
    "# 예제 16\n",
    "\n",
    "snack = [\"새우깡\",\"감자깡\",\"고구마깡\",\"맛동산\",\"짱구\"]\n",
    "for i in snack :\n",
    "    if i == \"고구마깡\" :\n",
    "         continue\n",
    "    print(i,\" 완전 맛있어요~!\")"
   ]
  },
  {
   "cell_type": "code",
   "execution_count": null,
   "metadata": {},
   "outputs": [],
   "source": []
  }
 ],
 "metadata": {
  "kernelspec": {
   "display_name": "Python 3",
   "language": "python",
   "name": "python3"
  },
  "language_info": {
   "codemirror_mode": {
    "name": "ipython",
    "version": 3
   },
   "file_extension": ".py",
   "mimetype": "text/x-python",
   "name": "python",
   "nbconvert_exporter": "python",
   "pygments_lexer": "ipython3",
   "version": "3.5.4"
  }
 },
 "nbformat": 4,
 "nbformat_minor": 2
}
