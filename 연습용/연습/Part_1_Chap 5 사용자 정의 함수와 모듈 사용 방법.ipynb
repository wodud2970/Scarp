{
 "cells": [
  {
   "cell_type": "code",
   "execution_count": 3,
   "metadata": {},
   "outputs": [
    {
     "name": "stdout",
     "output_type": "stream",
     "text": [
      "3 과 4 의 더한 값은 7 입니다\n"
     ]
    }
   ],
   "source": [
    "# 예제 1\n",
    "\n",
    "def p(x,y) :\n",
    "    result = print('%s 과 %s 의 더한 값은 %s 입니다' %(x,y,x+y) )\n",
    "    return result\n",
    "\n",
    "p(3,4)"
   ]
  },
  {
   "cell_type": "code",
   "execution_count": 5,
   "metadata": {},
   "outputs": [
    {
     "name": "stdout",
     "output_type": "stream",
     "text": [
      "입력하신 숫자의 합은 9 입니다\n",
      "입력하신 숫자의 합은 20 입니다\n"
     ]
    }
   ],
   "source": [
    "# 예제 2\n",
    "\n",
    "def p(*x) :\n",
    "    hap = 0\n",
    "    for i in x :\n",
    "        hap += i\n",
    "    return('입력하신 숫자의 합은 %s 입니다' %hap)\n",
    "\n",
    "print( p(1,3,5) )\n",
    "print( p(2,4,6,8) )"
   ]
  },
  {
   "cell_type": "code",
   "execution_count": 6,
   "metadata": {},
   "outputs": [
    {
     "data": {
      "text/plain": [
       "'첫번째 모듈 연습입니다'"
      ]
     },
     "execution_count": 6,
     "metadata": {},
     "output_type": "execute_result"
    }
   ],
   "source": [
    "#예제 3\n",
    "\n",
    "import ex_1\n",
    "ex_1.m_1()"
   ]
  },
  {
   "cell_type": "code",
   "execution_count": 7,
   "metadata": {},
   "outputs": [
    {
     "ename": "ImportError",
     "evalue": "No module named 'ex_2'",
     "output_type": "error",
     "traceback": [
      "\u001b[1;31m---------------------------------------------------------------------------\u001b[0m",
      "\u001b[1;31mImportError\u001b[0m                               Traceback (most recent call last)",
      "\u001b[1;32m<ipython-input-7-8d5a669270d4>\u001b[0m in \u001b[0;36m<module>\u001b[1;34m\u001b[0m\n\u001b[0;32m      1\u001b[0m \u001b[1;31m#예제 4\u001b[0m\u001b[1;33m\u001b[0m\u001b[1;33m\u001b[0m\u001b[0m\n\u001b[0;32m      2\u001b[0m \u001b[1;33m\u001b[0m\u001b[0m\n\u001b[1;32m----> 3\u001b[1;33m \u001b[1;32mimport\u001b[0m \u001b[0mex_2\u001b[0m\u001b[1;33m\u001b[0m\u001b[0m\n\u001b[0m",
      "\u001b[1;31mImportError\u001b[0m: No module named 'ex_2'"
     ]
    }
   ],
   "source": [
    "#예제 4\n",
    "\n",
    "import ex_2"
   ]
  },
  {
   "cell_type": "code",
   "execution_count": 8,
   "metadata": {
    "scrolled": true
   },
   "outputs": [
    {
     "name": "stdout",
     "output_type": "stream",
     "text": [
      "['c:\\\\python 3.5\\\\python35.zip', 'c:\\\\python 3.5\\\\DLLs', 'c:\\\\python 3.5\\\\lib', 'c:\\\\python 3.5', '', 'c:\\\\python 3.5\\\\lib\\\\site-packages', 'c:\\\\python 3.5\\\\lib\\\\site-packages\\\\win32', 'c:\\\\python 3.5\\\\lib\\\\site-packages\\\\win32\\\\lib', 'c:\\\\python 3.5\\\\lib\\\\site-packages\\\\Pythonwin', 'c:\\\\python 3.5\\\\lib\\\\site-packages\\\\IPython\\\\extensions', 'C:\\\\Users\\\\seoji\\\\.ipython']\n"
     ]
    }
   ],
   "source": [
    "#예제 4\n",
    "\n",
    "import sys\n",
    "print(sys.path)"
   ]
  },
  {
   "cell_type": "code",
   "execution_count": 11,
   "metadata": {
    "scrolled": true
   },
   "outputs": [
    {
     "name": "stdout",
     "output_type": "stream",
     "text": [
      "두 번째 모듈 실습입니다\n"
     ]
    }
   ],
   "source": [
    "sys.path.append(\"c:\\py_module\")\n",
    "import ex_2\n",
    "print(ex_2.m_2())"
   ]
  },
  {
   "cell_type": "code",
   "execution_count": 13,
   "metadata": {},
   "outputs": [
    {
     "name": "stdout",
     "output_type": "stream",
     "text": [
      "첫 번째 모듈 실습입니다\n",
      "두 번째 모듈 실습입니다\n"
     ]
    },
    {
     "ename": "AttributeError",
     "evalue": "module 'ex_2' has no attribute 'm_4'",
     "output_type": "error",
     "traceback": [
      "\u001b[1;31m---------------------------------------------------------------------------\u001b[0m",
      "\u001b[1;31mAttributeError\u001b[0m                            Traceback (most recent call last)",
      "\u001b[1;32m<ipython-input-13-6d60f2dcd9f8>\u001b[0m in \u001b[0;36m<module>\u001b[1;34m\u001b[0m\n\u001b[0;32m      4\u001b[0m \u001b[0mprint\u001b[0m\u001b[1;33m(\u001b[0m \u001b[0mex_2\u001b[0m\u001b[1;33m.\u001b[0m\u001b[0mm_1\u001b[0m\u001b[1;33m(\u001b[0m\u001b[1;33m)\u001b[0m \u001b[1;33m)\u001b[0m\u001b[1;33m\u001b[0m\u001b[0m\n\u001b[0;32m      5\u001b[0m \u001b[0mprint\u001b[0m\u001b[1;33m(\u001b[0m \u001b[0mex_2\u001b[0m\u001b[1;33m.\u001b[0m\u001b[0mm_2\u001b[0m\u001b[1;33m(\u001b[0m\u001b[1;33m)\u001b[0m \u001b[1;33m)\u001b[0m\u001b[1;33m\u001b[0m\u001b[0m\n\u001b[1;32m----> 6\u001b[1;33m \u001b[0mprint\u001b[0m\u001b[1;33m(\u001b[0m \u001b[0mex_2\u001b[0m\u001b[1;33m.\u001b[0m\u001b[0mm_4\u001b[0m\u001b[1;33m(\u001b[0m\u001b[1;33m)\u001b[0m \u001b[1;33m)\u001b[0m\u001b[1;33m\u001b[0m\u001b[0m\n\u001b[0m",
      "\u001b[1;31mAttributeError\u001b[0m: module 'ex_2' has no attribute 'm_4'"
     ]
    }
   ],
   "source": [
    "# 예제 5\n",
    "\n",
    "from ex_2 import m_1 , m_2\n",
    "print( ex_2.m_1() )\n",
    "print( ex_2.m_2() )\n",
    "print( ex_2.m_4() )\n"
   ]
  },
  {
   "cell_type": "code",
   "execution_count": null,
   "metadata": {},
   "outputs": [],
   "source": []
  }
 ],
 "metadata": {
  "kernelspec": {
   "display_name": "Python 3",
   "language": "python",
   "name": "python3"
  },
  "language_info": {
   "codemirror_mode": {
    "name": "ipython",
    "version": 3
   },
   "file_extension": ".py",
   "mimetype": "text/x-python",
   "name": "python",
   "nbconvert_exporter": "python",
   "pygments_lexer": "ipython3",
   "version": "3.5.4"
  }
 },
 "nbformat": 4,
 "nbformat_minor": 2
}
