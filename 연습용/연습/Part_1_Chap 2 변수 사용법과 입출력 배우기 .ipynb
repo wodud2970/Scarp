{
 "cells": [
  {
   "cell_type": "code",
   "execution_count": 2,
   "metadata": {},
   "outputs": [
    {
     "name": "stdout",
     "output_type": "stream",
     "text": [
      "10\n",
      "20\n"
     ]
    }
   ],
   "source": [
    "#  변수 사용법과 입출력 배우기\n",
    "\n",
    "# 1)   var1  이름의 변수를 만들고 10의 값을 할당하세요\n",
    "var1 = 10\n",
    "print(var1)\n",
    "\n",
    "# 2)  var2 이름의 변수를 만들고 20의 값을 할당하세요\n",
    "var2 = 20\n",
    "print(var2)"
   ]
  },
  {
   "cell_type": "code",
   "execution_count": 3,
   "metadata": {},
   "outputs": [
    {
     "name": "stdout",
     "output_type": "stream",
     "text": [
      "30\n",
      "200\n",
      "0.5\n"
     ]
    }
   ],
   "source": [
    "# 3) 다양한 연산자 사용하기\n",
    "\n",
    "print(var1 + var2)\n",
    "print(var1 * var2)\n",
    "print(var1 / var2)"
   ]
  },
  {
   "cell_type": "code",
   "execution_count": 4,
   "metadata": {},
   "outputs": [
    {
     "name": "stdout",
     "output_type": "stream",
     "text": [
      "2\n"
     ]
    }
   ],
   "source": [
    "# 4)  % 연산자 활용하기\n",
    "\n",
    "var5 = 3\n",
    "var6 = 14\n",
    "print(var6 % var5)"
   ]
  },
  {
   "cell_type": "code",
   "execution_count": 6,
   "metadata": {},
   "outputs": [
    {
     "name": "stdout",
     "output_type": "stream",
     "text": [
      "오늘도 굿모닝이지 말입니다!\n",
      "내일도 굿모닝이지 말입니다!\n"
     ]
    }
   ],
   "source": [
    "# 5) print( ) 함수 사용하기\n",
    "\n",
    "# 출력할 문장을 직접 쓰기\n",
    "print(\"오늘도 굿모닝이지 말입니다!\")\n",
    "\n",
    "# 출력할 문장을 변수에 넣고 변수값 출력하기\n",
    "str = \"내일도 굿모닝이지 말입니다!\"\n",
    "print(str)"
   ]
  },
  {
   "cell_type": "code",
   "execution_count": 7,
   "metadata": {},
   "outputs": [
    {
     "name": "stdout",
     "output_type": "stream",
     "text": [
      " 배가 무지 고파서 밥을 5 그릇도 먹겠네!\n"
     ]
    }
   ],
   "source": [
    "# 6) 리터럴 문자와 함께 사용하기\n",
    "hungry = 5\n",
    "print(' 배가 무지 고파서 밥을 %s 그릇도 먹겠네!' %hungry)"
   ]
  },
  {
   "cell_type": "code",
   "execution_count": 9,
   "metadata": {},
   "outputs": [
    {
     "name": "stdout",
     "output_type": "stream",
     "text": [
      " 뉴스에서 물가가 20 %까지 오른다는데....\n"
     ]
    }
   ],
   "source": [
    "# 7) 특수문자와 함께 사용해야 할 경우\n",
    "\n",
    "up = 20\n",
    "print(' 뉴스에서 물가가 %s %%까지 오른다는데....'  %up)"
   ]
  },
  {
   "cell_type": "code",
   "execution_count": 10,
   "metadata": {},
   "outputs": [
    {
     "name": "stdout",
     "output_type": "stream",
     "text": [
      "뉴스에서 물가는 20 % 오른다는데 내 월급도 10 %라도..\n"
     ]
    }
   ],
   "source": [
    "# 8) 여러개의 변수를 한꺼번에 사용할 경우\n",
    "\n",
    "up = 20\n",
    "sal = 10\n",
    "\n",
    "print('뉴스에서 물가는 %s %% 오른다는데 내 월급도 %s %%라도..'  %(up , sal))"
   ]
  },
  {
   "cell_type": "code",
   "execution_count": 11,
   "metadata": {},
   "outputs": [
    {
     "name": "stdout",
     "output_type": "stream",
     "text": [
      "짜장면\n"
     ]
    }
   ],
   "source": [
    "# 9) input( ) 함수로 정보 입력받기\n",
    "\n",
    "txt1 = input()"
   ]
  },
  {
   "cell_type": "code",
   "execution_count": 12,
   "metadata": {},
   "outputs": [
    {
     "name": "stdout",
     "output_type": "stream",
     "text": [
      "점심 뭐 드셨어용?짬뽕\n"
     ]
    }
   ],
   "source": [
    "# 10) input() 함수에서 안내 멘트 보이기\n",
    "txt2 = input('점심 뭐 드셨어용?')"
   ]
  },
  {
   "cell_type": "code",
   "execution_count": 1,
   "metadata": {},
   "outputs": [
    {
     "name": "stdout",
     "output_type": "stream",
     "text": [
      "\n",
      "1. 서울         2.대전           3.광주           4.부산\n",
      "5. 경남         6.경북           7.충청           8.제주\n",
      "\n",
      "위 지역중 정보를 조회할 지역의 번호를 입력하세요: 1\n"
     ]
    }
   ],
   "source": [
    "# 11) 출력 되는 양식을 지정하여 정보를 입력받기\n",
    "\n",
    "area_no = input('''\n",
    "1. 서울         2.대전           3.광주           4.부산\n",
    "5. 경남         6.경북           7.충청           8.제주\n",
    "\n",
    "위 지역중 정보를 조회할 지역의 번호를 입력하세요: ''')"
   ]
  },
  {
   "cell_type": "code",
   "execution_count": 5,
   "metadata": {},
   "outputs": [
    {
     "name": "stdout",
     "output_type": "stream",
     "text": [
      "첫번째 주문하실 음식은 무엇인가요?: 짜장면\n",
      "두번째 주문하실 음식은 무엇인가요?:짬뽕\n",
      "첫번째 주문하신 음식은 짜장면이고 두번째 주문하신 음식은 짬뽕입니다\n"
     ]
    }
   ],
   "source": [
    "# Part 2_2 연습문제  1\n",
    "menu_1 = input('첫번째 주문하실 음식은 무엇인가요?: ')\n",
    "menu_2= input('두번째 주문하실 음식은 무엇인가요?: ')\n",
    "\n",
    "print('첫번째 주문하신 음식은 %s이고 두번째 주문하신 음식은 %s입니다' %(menu_1,menu_2))"
   ]
  },
  {
   "cell_type": "code",
   "execution_count": null,
   "metadata": {},
   "outputs": [],
   "source": []
  }
 ],
 "metadata": {
  "kernelspec": {
   "display_name": "Python 3",
   "language": "python",
   "name": "python3"
  },
  "language_info": {
   "codemirror_mode": {
    "name": "ipython",
    "version": 3
   },
   "file_extension": ".py",
   "mimetype": "text/x-python",
   "name": "python",
   "nbconvert_exporter": "python",
   "pygments_lexer": "ipython3",
   "version": "3.5.4"
  }
 },
 "nbformat": 4,
 "nbformat_minor": 2
}
