{
 "cells": [
  {
   "cell_type": "code",
   "execution_count": 1,
   "metadata": {},
   "outputs": [
    {
     "name": "stdout",
     "output_type": "stream",
     "text": [
      "크롤링할 키워드는 무엇입니까?: 가을여행\n",
      "검색 결과를 저장할 txt 파일경로와 이름을 지정하세요(예:c:\\data\\test_3.txt): c:\\data\\test3.txt\n",
      "검색 결과를 저장할 csv 파일경로와 이름을 지정하세요(예:c:\\data\\test_3.csv): c:\\data\\test3.csv\n",
      "검색 결과를 저장할 xls 파일경로와 이름을 지정하세요(예:c:\\data\\test_3.xls): c:\\data\\test3.xls\n"
     ]
    }
   ],
   "source": [
    "# Step 1. 필요한 모듈과 라이브러리를 로딩하고 검색어를 입력 받습니다\n",
    "from bs4 import BeautifulSoup     \n",
    "from selenium import webdriver\n",
    "import time\n",
    "import sys\n",
    "\n",
    "query_txt = input('크롤링할 키워드는 무엇입니까?: ')\n",
    "f_name = input('검색 결과를 저장할 txt 파일경로와 이름을 지정하세요(예:c:\\\\data\\\\test_3.txt): ')\n",
    "fc_name = input('검색 결과를 저장할 csv 파일경로와 이름을 지정하세요(예:c:\\\\data\\\\test_3.csv): ')\n",
    "fx_name = input('검색 결과를 저장할 xls 파일경로와 이름을 지정하세요(예:c:\\\\data\\\\test_3.xls): ')\n",
    "\n",
    "#Step 2. 크롬 드라이버를 사용해서 웹 브라우저를 실행합니다.\n",
    "path = \"c:/temp/chromedriver_240/chromedriver.exe\"\n",
    "driver = webdriver.Chrome(path)\n",
    "\n",
    "driver.get(\"https://korean.visitkorea.or.kr/main/main.html\")\n",
    "time.sleep(2)  \n",
    "\n",
    "#코로나 얼럿창 있을 경우 닫기 클릭하기 \n",
    "try :\n",
    "    driver.find_element_by_xpath('//*[@id=\"safetyStay1\"]/div/div/div/button').click()\n",
    "except :\n",
    "    print(\"코로나 창이 없습니다\")\n",
    "    \n",
    "#Step 3. 검색창의 이름을 찾아서 검색어를 입력 후 검색을 진행합니다\n",
    "driver.find_element_by_id(\"btnSearch\").click()\n",
    "element = driver.find_element_by_id(\"inp_search\")\n",
    "element.send_keys(query_txt)\n",
    "driver.find_element_by_link_text(\"검색\").click()"
   ]
  },
  {
   "cell_type": "code",
   "execution_count": 4,
   "metadata": {},
   "outputs": [
    {
     "name": "stdout",
     "output_type": "stream",
     "text": [
      "내용: 은빛 억새와 황금 들녘, 서해 낙조가 어우러진 보령 오서산 가을 여행\n",
      "태그: #보령가볼만한곳#오서산#억새군락지#오서산자연휴양림#힐링여행#휴양여행#트레킹#월정사#단풍여행#공공누리#억새군락지#가을가볼만한곳#가을여행\n",
      "\n",
      "\n"
     ]
    }
   ],
   "source": [
    "# Step 4. 현재 페이지에 있는 내용을 화면에 출력하기\n",
    "\n",
    "time.sleep(1)\n",
    "\n",
    "html = driver.page_source\n",
    "soup = BeautifulSoup(html, 'html.parser')\n",
    "content_list = soup.find('ul',class_='list_thumType flnon')\n",
    "#print(content_list)\n",
    "\n",
    "# 학습목표 1: 특정 항목들을 분리해서 추출하기\n",
    "contents = content_list.find('div','tit').get_text( )\n",
    "print('제목:',contents.strip())\n",
    "    \n",
    "tag = content_list.find('p','tag').get_text()\n",
    "print('해쉬태그:',tag.strip())\n",
    "print(\"\\n\")"
   ]
  },
  {
   "cell_type": "code",
   "execution_count": null,
   "metadata": {},
   "outputs": [],
   "source": [
    "# Step 5. 각 항목별로 분리하여 추출하고 변수에 할당하기\n",
    "no = 1\n",
    "no2 =[ ]\n",
    "contents2=[ ]\n",
    "tags2=[ ]\n",
    "\n",
    "for i in content_list:\n",
    "    no2.append(no)\n",
    "    print('번호:',no)\n",
    "    \n",
    "    contents = i.find('div','tit').get_text( )\n",
    "    contents2.append(contents)\n",
    "    print('내용:',contents.strip())\n",
    "    \n",
    "    tag = i.find('p','tag').get_text()\n",
    "    tags2.append(tag)\n",
    "    print('태그:',tag.strip())\n",
    "    print(\"\\n\")\n",
    "    \n",
    "    no += 1\n",
    "    "
   ]
  },
  {
   "cell_type": "code",
   "execution_count": null,
   "metadata": {},
   "outputs": [],
   "source": [
    "# 학습목표 2: 분리 수집된 데이터를 데이터 프레임으로 만들어서 \n",
    "# csv , xls 형식으로 저장하기\n",
    "  \n",
    "# 출력 결과를 표(데이터 프레임) 형태로 만들기\n",
    "import pandas as pd\n",
    "\n",
    "korea_trip = pd.DataFrame()\n",
    "korea_trip['번호']=no2\n",
    "korea_trip['내용']=contents2\n",
    "korea_trip['태그']=tags2\n",
    "\n",
    "# csv 형태로 저장하기\n",
    "korea_trip.to_csv(fc_name, encoding=\"utf-8-sig\")\n",
    "print(\" csv 파일 저장 경로: %s\" %fc_name)\n",
    "\n",
    "# 엑셀 형태로 저장하기\n",
    "import xlwt   # pip install xlwt 실행 후 수행\n",
    "korea_trip.to_excel(fx_name)\n",
    "print(\" xls 파일 저장 경로: %s\" %fx_name)\n",
    "\n",
    "# 출력 결과를 txt 파일로 저장하기\n",
    "f = open(f_name, 'a',encoding='UTF-8')\n",
    "f.write(str(contents2))\n",
    "f.write(str(tags2))\n",
    "f.close( )\n",
    "print(\" txt 파일 저장 경로: %s\" %f_name)  "
   ]
  },
  {
   "cell_type": "code",
   "execution_count": null,
   "metadata": {},
   "outputs": [],
   "source": [
    "# 학습목표 3: openpyxl 패키지를 활용한 엑셀 형식의 파일 관리하기\n",
    "\n",
    "# 윈도의 cmd 창에서 pip install  openpyxl  명령과\n",
    "# 윈도의 cmd 창에서 pip install xlrd 명령을 먼저 실행하세요\n",
    "\n",
    "import openpyxl\n",
    "\n",
    "# Step 1. 새로운 엑셀 파일을 1개 생성합니다\n",
    "wb = openpyxl.Workbook( )  \n",
    "wb.save(\"c:\\\\temp\\\\temp\\\\test1.xlsx\")\n",
    "\n",
    "\n",
    "# Step 2. 새로운 시트 생성하고 시트이름 변경하기\n",
    "import openpyxl\n",
    "wb = openpyxl.Workbook( )\n",
    "\n",
    "sheet_1 = wb.active   # 현재 활성화 된 sheeet 가져오기\n",
    "\n",
    "# 새로운 시트를 만들면서 시트 이름을 지정하기\n",
    "sheet_2 = wb.create_sheet(\"매출현황\")\n",
    "\n",
    "# 시트 이름 변경하기\n",
    "sheet_1.title = '총매출현황'\n",
    "\n",
    "wb.save(\"c:\\\\temp\\\\temp\\\\test2.xlsx\")\n",
    "\n",
    "# Step 3. 기존 파일 불러와서 cell 에 내용 입력하기\n",
    "import openpyxl\n",
    "\n",
    "wb = openpyxl.load_workbook('c:\\\\temp\\\\temp\\\\test2.xlsx')\n",
    "sheet_1 = wb['총매출현황']\n",
    "sheet_1['A1'] = '첫번째 cell'\n",
    "sheet_1['A2'] = '두번째 cell'\n",
    "\n",
    "wb.save(\"c:\\\\temp\\\\temp\\\\test2.xlsx\")"
   ]
  },
  {
   "cell_type": "code",
   "execution_count": null,
   "metadata": {},
   "outputs": [],
   "source": []
  }
 ],
 "metadata": {
  "kernelspec": {
   "display_name": "Python 3",
   "language": "python",
   "name": "python3"
  },
  "language_info": {
   "codemirror_mode": {
    "name": "ipython",
    "version": 3
   },
   "file_extension": ".py",
   "mimetype": "text/x-python",
   "name": "python",
   "nbconvert_exporter": "python",
   "pygments_lexer": "ipython3",
   "version": "3.5.4"
  }
 },
 "nbformat": 4,
 "nbformat_minor": 2
}
