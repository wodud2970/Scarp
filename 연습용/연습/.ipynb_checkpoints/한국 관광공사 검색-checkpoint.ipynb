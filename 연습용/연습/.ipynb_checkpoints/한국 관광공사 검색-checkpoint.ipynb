{
 "cells": [
  {
   "cell_type": "code",
   "execution_count": null,
   "metadata": {},
   "outputs": [],
   "source": [
    "# 소주제 1:  1. 실습을 위한 환경 준비\n",
    "\n",
    "1) 파이썬은 3.5.X 버전으로 테스트를 했습니다.\n",
    "\n",
    "2. pip를 사용하여 BeautifulSoup 최신 버전을 설치합니다.\n",
    "[ 윈도의 명령 프롬프트 창에서 아래의 명령을 실행하세요]\n",
    "\n",
    "pip install bs4\n",
    "\n",
    "3. pip 를 사용하여 selenium (셀레니움)을 설치합니다.\n",
    "[ 윈도의 명령 프롬프트 창에서 아래의 명령을 실행하세요]\n",
    "\n",
    "pip install selenium\n",
    "\n",
    "4. selenium 은 웹 브라우저를 제어해서 크롤링을 진행합니다.\n",
    "그래서 selenium 을 사용할 때 웹 브라우저를 지정해 주어야 하는데 여기서는 구글사의 크롬을 이용하겠습니다. \n",
    "크롬을 사용하려면 실습을 진행하는 컴퓨터에 크롬이 설치되어 있어야 하며 selenium 이 사용할 크롬 드라이버도 있어야 합니다.\n",
    "크롬 드라이버는 아래 링크를 눌러서 최신 버전을 받아 주세요\n",
    "\n",
    "https://sites.google.com/a/chromium.org/chromedriver/downloads"
   ]
  },
  {
   "cell_type": "code",
   "execution_count": 1,
   "metadata": {},
   "outputs": [
    {
     "name": "stdout",
     "output_type": "stream",
     "text": [
      "크롤링할 키워드는 무엇입니까?: 봄여행\n"
     ]
    }
   ],
   "source": [
    "#Step 0. 필요한 모듈과 라이브러리를 로딩하고 검색어를 입력 받습니다\n",
    "from bs4 import BeautifulSoup     \n",
    "from selenium import webdriver\n",
    "import time\n",
    "\n",
    "query_txt = input('크롤링할 키워드는 무엇입니까?: ')\n",
    "\n",
    "#Step 1. 크롬 드라이버를 사용해서 웹 브라우저를 실행합니다.\n",
    "path = \"c:/temp/chromedriver_240/chromedriver.exe\"\n",
    "driver = webdriver.Chrome(path)\n",
    "\n",
    "driver.get(\"https://korean.visitkorea.or.kr\") #홈페이지 열기(https 부터 모든 주소)\n",
    "time.sleep(2)  # 위 페이지가 모두 열릴 때 까지 기다리는 시간\n",
    "\n",
    "#코로나 얼럿창 있을 경우 닫기 클릭하기 \n",
    "#닫기 버튼의 element 정보를 찾아서 입력해야 함\n",
    "#name값, id값 다 모를 때 xpath (html코드 우클릭 -> copy xpath)\n",
    "try :\n",
    "    driver.find_element_by_xpath('//*[@id=\"safetyStay1\"]/div/div/div/button').click() \n",
    "except :\n",
    "    print(\"알림창이 없습니다\")\n",
    "    \n",
    "#Step 2. 검색창의 이름을 찾아서 검색어를 입력합니다\n",
    "driver.find_element_by_id(\"btnSearch\").click() #id 값이면 _id / name 값이면 _name\n",
    "\n",
    "element = driver.find_element_by_id(\"inp_search\") #id값, name값 둘 다 있으면 아무거나 입력\n",
    "\n",
    "element.send_keys(query_txt) #글자 입력하는 기능 send_keys\n",
    "element.send_keys(\"\\n\") # enter 입력\n",
    "\n",
    "#Step 3. 검색 버튼을 눌러 실행합니다\n",
    "\n",
    "#driver.find_element_by_link_text(\"검색\").click()\n",
    "#driver.find_element_by_class_name(\"btn_search2\").click()  # class name 으로도 가능합니다.\n",
    "#driver.find_element_by_xpath('//*[@id=\"gnbMain\"]/div/div/div[1]/div[1]/a').click()   # xpath 로도 가능합니다."
   ]
  },
  {
   "cell_type": "code",
   "execution_count": null,
   "metadata": {},
   "outputs": [],
   "source": []
  }
 ],
 "metadata": {
  "kernelspec": {
   "display_name": "Python 3",
   "language": "python",
   "name": "python3"
  },
  "language_info": {
   "codemirror_mode": {
    "name": "ipython",
    "version": 3
   },
   "file_extension": ".py",
   "mimetype": "text/x-python",
   "name": "python",
   "nbconvert_exporter": "python",
   "pygments_lexer": "ipython3",
   "version": "3.7.6"
  }
 },
 "nbformat": 4,
 "nbformat_minor": 2
}
